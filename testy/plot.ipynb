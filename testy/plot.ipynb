{
 "cells": [
  {
   "cell_type": "code",
   "execution_count": 6,
   "id": "c2ed973b",
   "metadata": {},
   "outputs": [
    {
     "name": "stderr",
     "output_type": "stream",
     "text": [
      "C:\\Users\\agama\\.pyenv\\pyenv-win\\versions\\3.8.2\\lib\\site-packages\\IPython\\core\\interactiveshell.py:3427: FutureWarning: The error_bad_lines argument has been deprecated and will be removed in a future version.\n",
      "\n",
      "\n",
      "  exec(code_obj, self.user_global_ns, self.user_ns)\n",
      "b'Skipping line 400: expected 7 fields, saw 8\\nSkipping line 1074: expected 7 fields, saw 9\\nSkipping line 3429: expected 7 fields, saw 8\\nSkipping line 5870: expected 7 fields, saw 8\\nSkipping line 5876: expected 7 fields, saw 8\\nSkipping line 7957: expected 7 fields, saw 9\\nSkipping line 10061: expected 7 fields, saw 9\\nSkipping line 21116: expected 7 fields, saw 8\\nSkipping line 39383: expected 7 fields, saw 8\\nSkipping line 41295: expected 7 fields, saw 8\\nSkipping line 47214: expected 7 fields, saw 8\\nSkipping line 47215: expected 7 fields, saw 8\\nSkipping line 47216: expected 7 fields, saw 8\\nSkipping line 47217: expected 7 fields, saw 8\\nSkipping line 47218: expected 7 fields, saw 8\\nSkipping line 47617: expected 7 fields, saw 8\\n'\n"
     ]
    }
   ],
   "source": [
    "# wymagane pakiety\n",
    "import pandas as pd\n",
    "import matplotlib.pyplot as plt\n",
    "import seaborn as sns\n",
    "\n",
    "tracks = pd.read_csv('part-00000-697f3396-638e-4491-9ffe-e78020f2f2e3-c000.csv', error_bad_lines=False)"
   ]
  },
  {
   "cell_type": "code",
   "execution_count": 30,
   "id": "e39b8870",
   "metadata": {},
   "outputs": [],
   "source": [
    "tracks['duration_min'] = ((tracks.duration_ms/float(1000*60))%60).astype(float)\n"
   ]
  },
  {
   "cell_type": "code",
   "execution_count": 31,
   "id": "0d41dd50",
   "metadata": {},
   "outputs": [
    {
     "data": {
      "text/html": [
       "<div>\n",
       "<style scoped>\n",
       "    .dataframe tbody tr th:only-of-type {\n",
       "        vertical-align: middle;\n",
       "    }\n",
       "\n",
       "    .dataframe tbody tr th {\n",
       "        vertical-align: top;\n",
       "    }\n",
       "\n",
       "    .dataframe thead th {\n",
       "        text-align: right;\n",
       "    }\n",
       "</style>\n",
       "<table border=\"1\" class=\"dataframe\">\n",
       "  <thead>\n",
       "    <tr style=\"text-align: right;\">\n",
       "      <th></th>\n",
       "      <th>duration_ms</th>\n",
       "      <th>popularity</th>\n",
       "      <th>duration_min</th>\n",
       "    </tr>\n",
       "  </thead>\n",
       "  <tbody>\n",
       "    <tr>\n",
       "      <th>count</th>\n",
       "      <td>4.762000e+04</td>\n",
       "      <td>47620.000000</td>\n",
       "      <td>47620.000000</td>\n",
       "    </tr>\n",
       "    <tr>\n",
       "      <th>mean</th>\n",
       "      <td>2.123708e+05</td>\n",
       "      <td>53.996451</td>\n",
       "      <td>3.499194</td>\n",
       "    </tr>\n",
       "    <tr>\n",
       "      <th>std</th>\n",
       "      <td>1.314499e+05</td>\n",
       "      <td>15.988559</td>\n",
       "      <td>1.140626</td>\n",
       "    </tr>\n",
       "    <tr>\n",
       "      <th>min</th>\n",
       "      <td>2.505100e+04</td>\n",
       "      <td>0.000000</td>\n",
       "      <td>0.417517</td>\n",
       "    </tr>\n",
       "    <tr>\n",
       "      <th>25%</th>\n",
       "      <td>1.736630e+05</td>\n",
       "      <td>45.000000</td>\n",
       "      <td>2.894383</td>\n",
       "    </tr>\n",
       "    <tr>\n",
       "      <th>50%</th>\n",
       "      <td>2.000915e+05</td>\n",
       "      <td>56.000000</td>\n",
       "      <td>3.334858</td>\n",
       "    </tr>\n",
       "    <tr>\n",
       "      <th>75%</th>\n",
       "      <td>2.323692e+05</td>\n",
       "      <td>65.000000</td>\n",
       "      <td>3.872821</td>\n",
       "    </tr>\n",
       "    <tr>\n",
       "      <th>max</th>\n",
       "      <td>5.440374e+06</td>\n",
       "      <td>99.000000</td>\n",
       "      <td>52.657983</td>\n",
       "    </tr>\n",
       "  </tbody>\n",
       "</table>\n",
       "</div>"
      ],
      "text/plain": [
       "        duration_ms    popularity  duration_min\n",
       "count  4.762000e+04  47620.000000  47620.000000\n",
       "mean   2.123708e+05     53.996451      3.499194\n",
       "std    1.314499e+05     15.988559      1.140626\n",
       "min    2.505100e+04      0.000000      0.417517\n",
       "25%    1.736630e+05     45.000000      2.894383\n",
       "50%    2.000915e+05     56.000000      3.334858\n",
       "75%    2.323692e+05     65.000000      3.872821\n",
       "max    5.440374e+06     99.000000     52.657983"
      ]
     },
     "execution_count": 31,
     "metadata": {},
     "output_type": "execute_result"
    }
   ],
   "source": [
    "tracks.describe()\n"
   ]
  },
  {
   "cell_type": "code",
   "execution_count": 33,
   "id": "2188f712",
   "metadata": {},
   "outputs": [
    {
     "data": {
      "text/plain": [
       "{'whiskers': [<matplotlib.lines.Line2D at 0x197a1ab3520>,\n",
       "  <matplotlib.lines.Line2D at 0x197a1ab38b0>],\n",
       " 'caps': [<matplotlib.lines.Line2D at 0x197a1ab3c40>,\n",
       "  <matplotlib.lines.Line2D at 0x197a1ab3fd0>],\n",
       " 'boxes': [<matplotlib.lines.Line2D at 0x197a1ab3190>],\n",
       " 'medians': [<matplotlib.lines.Line2D at 0x197a1abd3a0>],\n",
       " 'fliers': [<matplotlib.lines.Line2D at 0x197a1abd730>],\n",
       " 'means': []}"
      ]
     },
     "execution_count": 33,
     "metadata": {},
     "output_type": "execute_result"
    },
    {
     "data": {
      "image/png": "[encoded data removed]",
      "text/plain": [
       "<Figure size 432x288 with 1 Axes>"
      ]
     },
     "metadata": {
      "needs_background": "light"
     },
     "output_type": "display_data"
    }
   ],
   "source": [
    "plt.boxplot(tracks[tracks.duration_min<10].duration_min)"
   ]
  },
  {
   "cell_type": "code",
   "execution_count": 47,
   "id": "1083ef82",
   "metadata": {},
   "outputs": [
    {
     "data": {
      "text/plain": [
       "[<matplotlib.axis.XTick at 0x197a2f1cc70>,\n",
       " <matplotlib.axis.XTick at 0x197a2f1cc40>,\n",
       " <matplotlib.axis.XTick at 0x197a31a4e80>,\n",
       " <matplotlib.axis.XTick at 0x197a2f80760>,\n",
       " <matplotlib.axis.XTick at 0x197a2f80eb0>,\n",
       " <matplotlib.axis.XTick at 0x197a2f86640>,\n",
       " <matplotlib.axis.XTick at 0x197a2f86d90>,\n",
       " <matplotlib.axis.XTick at 0x197a2f86cd0>,\n",
       " <matplotlib.axis.XTick at 0x197a2f1c3a0>,\n",
       " <matplotlib.axis.XTick at 0x197a31a4550>,\n",
       " <matplotlib.axis.XTick at 0x197a31a4310>]"
      ]
     },
     "execution_count": 47,
     "metadata": {},
     "output_type": "execute_result"
    },
    {
     "data": {
      "image/png": "[encoded data removed]",
      "text/plain": [
       "<Figure size 648x432 with 1 Axes>"
      ]
     },
     "metadata": {},
     "output_type": "display_data"
    }
   ],
   "source": [
    "sns.set_theme()\n",
    "plt.figure(figsize=(9,6))\n",
    "hist = sns.histplot(tracks[tracks.duration_min<10].duration_min, bins=30)\n",
    "hist.set_xticks([0,1,2,3,4,5,6,7,8,9,10])"
   ]
  },
  {
   "cell_type": "code",
   "execution_count": 50,
   "id": "30a22b22",
   "metadata": {},
   "outputs": [
    {
     "data": {
      "text/plain": [
       "album_id        125\n",
       "duration_ms     125\n",
       "explicit        125\n",
       "id              125\n",
       "name            125\n",
       "popularity      125\n",
       "artist_id       125\n",
       "duration_min    125\n",
       "dtype: int64"
      ]
     },
     "execution_count": 50,
     "metadata": {},
     "output_type": "execute_result"
    }
   ],
   "source": [
    "tracks[tracks.duration_min>10].count()\n"
   ]
  },
  {
   "cell_type": "code",
   "execution_count": null,
   "id": "aaaa8ae8",
   "metadata": {},
   "outputs": [],
   "source": []
  }
 ],
 "metadata": {
  "kernelspec": {
   "display_name": "Python 3 (ipykernel)",
   "language": "python",
   "name": "python3"
  },
  "language_info": {
   "codemirror_mode": {
    "name": "ipython",
    "version": 3
   },
   "file_extension": ".py",
   "mimetype": "text/x-python",
   "name": "python",
   "nbconvert_exporter": "python",
   "pygments_lexer": "ipython3",
   "version": "3.8.2"
  }
 },
 "nbformat": 4,
 "nbformat_minor": 5
}
