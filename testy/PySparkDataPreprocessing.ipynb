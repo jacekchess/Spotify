{
 "cells": [
  {
   "cell_type": "markdown",
   "id": "3aff1629",
   "metadata": {},
   "source": [
    "## Przetwarzanie danych w PySpark"
   ]
  },
  {
   "cell_type": "code",
   "execution_count": 1,
   "id": "0479f74a",
   "metadata": {},
   "outputs": [],
   "source": [
    "# potrzebne importy\n",
    "import findspark\n",
    "findspark.init()\n",
    "\n",
    "from pyspark.sql import SparkSession\n",
    "from pyspark.sql.functions import col, split, explode, explode_outer, countDistinct, size, \\\n",
    "input_file_name, when, substring, length, expr"
   ]
  },
  {
   "cell_type": "code",
   "execution_count": 2,
   "id": "3d43bfa9",
   "metadata": {},
   "outputs": [
    {
     "name": "stderr",
     "output_type": "stream",
     "text": [
      "22/01/12 22:26:13 WARN util.Utils: Your hostname, node1 resolves to a loopback address: 127.0.0.1; using 192.168.137.184 instead (on interface ens3)\n",
      "22/01/12 22:26:13 WARN util.Utils: Set SPARK_LOCAL_IP if you need to bind to another address\n",
      "22/01/12 22:26:14 WARN util.NativeCodeLoader: Unable to load native-hadoop library for your platform... using builtin-java classes where applicable\n",
      "Setting default log level to \"WARN\".\n",
      "To adjust logging level use sc.setLogLevel(newLevel). For SparkR, use setLogLevel(newLevel).\n"
     ]
    }
   ],
   "source": [
    "# inicjowanie sesji Spark\n",
    "spark = (\n",
    "    SparkSession.builder\n",
    "    .appName(\"HDFS\")\n",
    "    .getOrCreate()\n",
    ")"
   ]
  },
  {
   "cell_type": "markdown",
   "id": "96a3b556",
   "metadata": {},
   "source": [
    "### Artyści"
   ]
  },
  {
   "cell_type": "code",
   "execution_count": 3,
   "id": "1c6231d9",
   "metadata": {},
   "outputs": [
    {
     "name": "stderr",
     "output_type": "stream",
     "text": [
      "                                                                                \r"
     ]
    }
   ],
   "source": [
    "# wczytanie danych dla artystów\n",
    "artists = (\n",
    "    spark.read\n",
    "    .json('hdfs://localhost:8020/user/wisniewskij/spotify/artists/*', multiLine=True)\n",
    ")"
   ]
  },
  {
   "cell_type": "code",
   "execution_count": 4,
   "id": "e86bbd30",
   "metadata": {},
   "outputs": [
    {
     "name": "stdout",
     "output_type": "stream",
     "text": [
      "root\n",
      " |-- artists: array (nullable = true)\n",
      " |    |-- element: struct (containsNull = true)\n",
      " |    |    |-- external_urls: struct (nullable = true)\n",
      " |    |    |    |-- spotify: string (nullable = true)\n",
      " |    |    |-- followers: struct (nullable = true)\n",
      " |    |    |    |-- href: string (nullable = true)\n",
      " |    |    |    |-- total: long (nullable = true)\n",
      " |    |    |-- genres: array (nullable = true)\n",
      " |    |    |    |-- element: string (containsNull = true)\n",
      " |    |    |-- href: string (nullable = true)\n",
      " |    |    |-- id: string (nullable = true)\n",
      " |    |    |-- images: array (nullable = true)\n",
      " |    |    |    |-- element: struct (containsNull = true)\n",
      " |    |    |    |    |-- height: long (nullable = true)\n",
      " |    |    |    |    |-- url: string (nullable = true)\n",
      " |    |    |    |    |-- width: long (nullable = true)\n",
      " |    |    |-- name: string (nullable = true)\n",
      " |    |    |-- popularity: long (nullable = true)\n",
      " |    |    |-- type: string (nullable = true)\n",
      " |    |    |-- uri: string (nullable = true)\n",
      "\n"
     ]
    }
   ],
   "source": [
    "artists.printSchema()"
   ]
  },
  {
   "cell_type": "code",
   "execution_count": 5,
   "id": "b2bc68bb",
   "metadata": {},
   "outputs": [],
   "source": [
    "# selekcja potrzebnych artybutów\n",
    "artists_df = (\n",
    "    artists\n",
    "    .select(explode_outer('artists').alias('artists'))\n",
    "    .select('artists.id',\n",
    "            'artists.name',\n",
    "            'artists.followers.total', \n",
    "            'artists.genres',\n",
    "            'artists.popularity')\n",
    "    .withColumnRenamed('total', 'followers')\n",
    ")"
   ]
  },
  {
   "cell_type": "code",
   "execution_count": 6,
   "id": "a92afb20",
   "metadata": {},
   "outputs": [
    {
     "name": "stdout",
     "output_type": "stream",
     "text": [
      "root\n",
      " |-- id: string (nullable = true)\n",
      " |-- name: string (nullable = true)\n",
      " |-- followers: long (nullable = true)\n",
      " |-- genres: array (nullable = true)\n",
      " |    |-- element: string (containsNull = true)\n",
      " |-- popularity: long (nullable = true)\n",
      "\n"
     ]
    }
   ],
   "source": [
    "artists_df.printSchema()"
   ]
  },
  {
   "cell_type": "code",
   "execution_count": 7,
   "id": "45352266",
   "metadata": {
    "scrolled": false
   },
   "outputs": [
    {
     "name": "stdout",
     "output_type": "stream",
     "text": [
      "+--------------------+--------------+---------+--------------------+----------+\n",
      "|                  id|          name|followers|              genres|popularity|\n",
      "+--------------------+--------------+---------+--------------------+----------+\n",
      "|6DIS6PRrLS3wbnZsf...| WALK THE MOON|  1855947|[dance pop, dance...|        72|\n",
      "|3Gm5F95VdRxW3mqCn...|         Aminé|  1704990|[hip hop, pop, po...|        77|\n",
      "|6Ha4aES39QiVjR0L2...|      Yo Gotti|  3552613|[dirty south rap,...|        72|\n",
      "|7jZM5w05mGhw6wTB1...|           ATB|   315432|[german dance, ge...|        71|\n",
      "|4mAsWDGLUIEdo6imU...|    Boomdabash|   575501|[italian adult po...|        63|\n",
      "|1fxbULcd6ryMNc1us...|   Quebonafide|  1136285|    [polish hip hop]|        69|\n",
      "|1XLWox9w1Yvbodui0...|StaySolidRocky|   155335|       [melodic rap]|        65|\n",
      "|1cZQSpDsxgKIX2yW5...| Lennon Stella|   313373|[alt z, canadian ...|        71|\n",
      "|21E3waRsmPlU7jZsS...|         Ne-Yo|  6676677|[dance pop, pop, ...|        81|\n",
      "|5NGO30tJxFlKixkPS...|    The Police|  4600255|[album rock, art ...|        77|\n",
      "|0KKUc4amZyvswV2YL...|Mariah Angeliq|   220019|[dominican pop, l...|        73|\n",
      "|2kRfqPViCqYdSGhYS...|  Madison Beer|  4129350|[alt z, dance pop...|        78|\n",
      "|3rWZHrfrsPBxVy692...|        WILLOW|  1879269|[afrofuturism, da...|        83|\n",
      "|2PJEagPIxaBugeMjI...|         Aitch|   757903|[manchester hip hop]|        71|\n",
      "|3gIRvgZssIb9aiirI...| Jeremy Zucker|  1854702|   [electropop, pop]|        79|\n",
      "|2oT7xd9iTO2ejLsNG...| Flow La Movie|    10060|[reggaeton, trap ...|        69|\n",
      "|51DevdOxIJin6DB1F...|           UZI|   751004|      [turkish trap]|        77|\n",
      "|4nPxrGG7k7aEKmNLs...|    White 2115|   642922|[polish hip hop, ...|        73|\n",
      "|48sLioddyaXkuhyHX...|  Parson James|    54961|          [pop soul]|        62|\n",
      "|6gto7HVNhu4ARE3P3...|      Kollegah|  1383052|    [german hip hop]|        72|\n",
      "+--------------------+--------------+---------+--------------------+----------+\n",
      "only showing top 20 rows\n",
      "\n"
     ]
    }
   ],
   "source": [
    "artists_df.show()"
   ]
  },
  {
   "cell_type": "code",
   "execution_count": 8,
   "id": "4143cc22",
   "metadata": {
    "scrolled": true
   },
   "outputs": [
    {
     "name": "stderr",
     "output_type": "stream",
     "text": [
      "                                                                                \r"
     ]
    },
    {
     "name": "stdout",
     "output_type": "stream",
     "text": [
      "+----------------------+-------------+-----+\n",
      "|id                    |name         |count|\n",
      "+----------------------+-------------+-----+\n",
      "|5xOvrnVpLjzfGi69GDlzQY|Yuridope     |2    |\n",
      "|3IW7ScrzXmPvZhB27hmfgy|Jul          |2    |\n",
      "|49CE2ffZ6Z3zeYSDauSKck|Tungevaag    |2    |\n",
      "|44mEtidu0VdRkIqO4IbkNa|Marca MP     |2    |\n",
      "|7HqEmV7FeCi16bQyHMpIrF|VASSY        |3    |\n",
      "|3dN9MQpjIyNxyeRfz4EDZe|Rochak Kohli |2    |\n",
      "|7hJpyuLhmpawafcRfxUnlT|Bibič        |2    |\n",
      "|0FUsrstJwmg4WVHQMTYuUA|Şehinşah     |2    |\n",
      "|4sbXXFzEWJY2zsZjelerjX|Dadju        |2    |\n",
      "|3FoFW2AoUGRHBacC6i4x4p|Russ Millions|2    |\n",
      "+----------------------+-------------+-----+\n",
      "\n"
     ]
    },
    {
     "name": "stderr",
     "output_type": "stream",
     "text": [
      "\r",
      "[Stage 14:===========================>                          (102 + 4) / 200]\r",
      "\r",
      "[Stage 14:======================================>               (143 + 4) / 200]\r"
     ]
    },
    {
     "name": "stdout",
     "output_type": "stream",
     "text": [
      "Liczba rekordów dla zduplikowanych artystów:  21\n"
     ]
    },
    {
     "name": "stderr",
     "output_type": "stream",
     "text": [
      "\r",
      "[Stage 14:================================================>     (180 + 4) / 200]\r",
      "\r",
      "                                                                                \r"
     ]
    }
   ],
   "source": [
    "# sprawdzenie duplikatów\n",
    "artists_df_duplicated = artists_df.groupBy(\"id\", \"name\").count().filter(\"count > 1\")\n",
    "artists_df_duplicated.show(truncate=False)\n",
    "print('Liczba rekordów dla zduplikowanych artystów: ', artists_df_duplicated.groupBy().sum().collect()[0][0])"
   ]
  },
  {
   "cell_type": "code",
   "execution_count": 9,
   "id": "a137ca99",
   "metadata": {},
   "outputs": [
    {
     "name": "stderr",
     "output_type": "stream",
     "text": [
      "\r",
      "[Stage 17:============================================>         (166 + 4) / 200]\r",
      "\r",
      "                                                                                \r"
     ]
    },
    {
     "name": "stdout",
     "output_type": "stream",
     "text": [
      "+--------------------+-------------+---------+--------------------+----------+\n",
      "|                  id|         name|followers|              genres|popularity|\n",
      "+--------------------+-------------+---------+--------------------+----------+\n",
      "|7hJpyuLhmpawafcRf...|        Bibič|        1|    [polish hip hop]|        61|\n",
      "|7hJpyuLhmpawafcRf...|        Bibič|     9759|    [polish hip hop]|        61|\n",
      "|4sbXXFzEWJY2zsZje...|        Dadju|  3786642|[francoton, frenc...|        74|\n",
      "|4sbXXFzEWJY2zsZje...|        Dadju|       10|[francoton, frenc...|        74|\n",
      "|3IW7ScrzXmPvZhB27...|          Jul|        3|[francoton, rap m...|        84|\n",
      "|3IW7ScrzXmPvZhB27...|          Jul|  4678085|[francoton, rap m...|        84|\n",
      "|44mEtidu0VdRkIqO4...|     Marca MP|   777285|[corridos tumbado...|        78|\n",
      "|44mEtidu0VdRkIqO4...|     Marca MP|      387|[corridos tumbado...|        78|\n",
      "|3dN9MQpjIyNxyeRfz...| Rochak Kohli|    91925|[desi pop, modern...|        71|\n",
      "|3dN9MQpjIyNxyeRfz...| Rochak Kohli|        1|[desi pop, modern...|        71|\n",
      "|3FoFW2AoUGRHBacC6...|Russ Millions|      260|          [uk drill]|        74|\n",
      "|3FoFW2AoUGRHBacC6...|Russ Millions|   271288|          [uk drill]|        74|\n",
      "|49CE2ffZ6Z3zeYSDa...|    Tungevaag|      362|[big room, dance ...|        71|\n",
      "|49CE2ffZ6Z3zeYSDa...|    Tungevaag|   123455|[big room, dance ...|        71|\n",
      "|7HqEmV7FeCi16bQyH...|        VASSY|        0|  [australian dance]|        62|\n",
      "|7HqEmV7FeCi16bQyH...|        VASSY|        2|  [australian dance]|        62|\n",
      "|7HqEmV7FeCi16bQyH...|        VASSY|    31549|  [australian dance]|        62|\n",
      "|5xOvrnVpLjzfGi69G...|     Yuridope|        1|[pinoy hip hop, t...|        62|\n",
      "|5xOvrnVpLjzfGi69G...|     Yuridope|     8333|[pinoy hip hop, t...|        62|\n",
      "|0FUsrstJwmg4WVHQM...|     Şehinşah|        3|[turkish hip hop,...|        66|\n",
      "|0FUsrstJwmg4WVHQM...|     Şehinşah|  1171527|[turkish hip hop,...|        66|\n",
      "+--------------------+-------------+---------+--------------------+----------+\n",
      "\n"
     ]
    }
   ],
   "source": [
    "# wyfiltrowanie rekordów dla zduplikowanych artystów\n",
    "id_duplicated = [row.id for row in artists_df_duplicated.select(\"id\").collect()]\n",
    "artists_df.filter(artists_df.id.isin(id_duplicated)).orderBy('name').show(21)"
   ]
  },
  {
   "cell_type": "code",
   "execution_count": 10,
   "id": "5cf5b070",
   "metadata": {},
   "outputs": [],
   "source": [
    "# widok tymczasowy na potrzeby dalszego przetwarzania\n",
    "artists_df.createGlobalTempView(\"artists\")"
   ]
  },
  {
   "cell_type": "code",
   "execution_count": 11,
   "id": "e04f1bce",
   "metadata": {},
   "outputs": [
    {
     "name": "stderr",
     "output_type": "stream",
     "text": [
      "\r",
      "[Stage 20:============================================>         (163 + 4) / 200]\r",
      "\r",
      "                                                                                \r"
     ]
    },
    {
     "name": "stdout",
     "output_type": "stream",
     "text": [
      "+--------------------+-------------+---------+----------+--------------------+\n",
      "|                  id|         name|followers|popularity|              genres|\n",
      "+--------------------+-------------+---------+----------+--------------------+\n",
      "|7hJpyuLhmpawafcRf...|        Bibič|     9759|        61|    [polish hip hop]|\n",
      "|4sbXXFzEWJY2zsZje...|        Dadju|  3786642|        74|[francoton, frenc...|\n",
      "|3IW7ScrzXmPvZhB27...|          Jul|  4678085|        84|[francoton, rap m...|\n",
      "|44mEtidu0VdRkIqO4...|     Marca MP|   777285|        78|[corridos tumbado...|\n",
      "|3dN9MQpjIyNxyeRfz...| Rochak Kohli|    91925|        71|[desi pop, modern...|\n",
      "|3FoFW2AoUGRHBacC6...|Russ Millions|   271288|        74|          [uk drill]|\n",
      "|49CE2ffZ6Z3zeYSDa...|    Tungevaag|   123455|        71|[big room, dance ...|\n",
      "|7HqEmV7FeCi16bQyH...|        VASSY|    31549|        62|  [australian dance]|\n",
      "|5xOvrnVpLjzfGi69G...|     Yuridope|     8333|        62|[pinoy hip hop, t...|\n",
      "|0FUsrstJwmg4WVHQM...|     Şehinşah|  1171527|        66|[turkish hip hop,...|\n",
      "+--------------------+-------------+---------+----------+--------------------+\n",
      "\n"
     ]
    },
    {
     "name": "stderr",
     "output_type": "stream",
     "text": [
      "\r",
      "[Stage 22:======================================>               (141 + 4) / 200]\r"
     ]
    },
    {
     "name": "stdout",
     "output_type": "stream",
     "text": [
      "Liczba unikalnych artystów:  4989\n"
     ]
    },
    {
     "name": "stderr",
     "output_type": "stream",
     "text": [
      "\r",
      "[Stage 22:====================================================> (193 + 5) / 200]\r",
      "\r",
      "                                                                                \r"
     ]
    }
   ],
   "source": [
    "# zdeduplikowana ramka danych\n",
    "artists_df_deduplicated = (\n",
    "    spark.sql(\"SELECT id, name, max(followers) as followers, popularity, genres FROM global_temp.artists GROUP BY id, name, popularity, genres\")\n",
    ")\n",
    "artists_df_deduplicated.filter(artists_df.id.isin(id_duplicated)).orderBy('name').show() # sprawdzenie duplikatów\n",
    "print('Liczba unikalnych artystów: ', artists_df_deduplicated.count())"
   ]
  },
  {
   "cell_type": "code",
   "execution_count": 12,
   "id": "0be2f210",
   "metadata": {},
   "outputs": [],
   "source": [
    "# spłaszczenie kolumny zawierającej gatunki, w których tworzy artysta\n",
    "artists_df_deduplicated_genres = artists_df_deduplicated.withColumn('genres', explode_outer('genres'))"
   ]
  },
  {
   "cell_type": "code",
   "execution_count": 13,
   "id": "4cd3126d",
   "metadata": {},
   "outputs": [
    {
     "name": "stderr",
     "output_type": "stream",
     "text": [
      "                                                                                \r"
     ]
    },
    {
     "data": {
      "text/plain": [
       "13344"
      ]
     },
     "execution_count": 13,
     "metadata": {},
     "output_type": "execute_result"
    }
   ],
   "source": [
    "artists_df_deduplicated_genres.count()"
   ]
  },
  {
   "cell_type": "code",
   "execution_count": 14,
   "id": "a901e922",
   "metadata": {},
   "outputs": [
    {
     "name": "stderr",
     "output_type": "stream",
     "text": [
      "                                                                                \r"
     ]
    },
    {
     "data": {
      "text/plain": [
       "549"
      ]
     },
     "execution_count": 14,
     "metadata": {},
     "output_type": "execute_result"
    }
   ],
   "source": [
    "# liczba artystów bez gatunków\n",
    "artists_df_deduplicated_genres.filter(col('genres').isNull()).select('id').distinct().count() "
   ]
  },
  {
   "cell_type": "markdown",
   "id": "4126da07",
   "metadata": {},
   "source": [
    "### Albums"
   ]
  },
  {
   "cell_type": "code",
   "execution_count": 15,
   "id": "7ac6d512",
   "metadata": {},
   "outputs": [
    {
     "name": "stderr",
     "output_type": "stream",
     "text": [
      "                                                                                \r"
     ]
    }
   ],
   "source": [
    "# wczytanie danych dla albumów\n",
    "albums = (\n",
    "    spark.read\n",
    "    .json('hdfs://localhost:8020/user/wisniewskij/spotify/albums/*', multiLine=True)\n",
    ")"
   ]
  },
  {
   "cell_type": "code",
   "execution_count": 16,
   "id": "77db06a3",
   "metadata": {},
   "outputs": [
    {
     "name": "stdout",
     "output_type": "stream",
     "text": [
      "root\n",
      " |-- href: string (nullable = true)\n",
      " |-- items: array (nullable = true)\n",
      " |    |-- element: struct (containsNull = true)\n",
      " |    |    |-- album_group: string (nullable = true)\n",
      " |    |    |-- album_type: string (nullable = true)\n",
      " |    |    |-- artists: array (nullable = true)\n",
      " |    |    |    |-- element: struct (containsNull = true)\n",
      " |    |    |    |    |-- external_urls: struct (nullable = true)\n",
      " |    |    |    |    |    |-- spotify: string (nullable = true)\n",
      " |    |    |    |    |-- href: string (nullable = true)\n",
      " |    |    |    |    |-- id: string (nullable = true)\n",
      " |    |    |    |    |-- name: string (nullable = true)\n",
      " |    |    |    |    |-- type: string (nullable = true)\n",
      " |    |    |    |    |-- uri: string (nullable = true)\n",
      " |    |    |-- available_markets: array (nullable = true)\n",
      " |    |    |    |-- element: string (containsNull = true)\n",
      " |    |    |-- external_urls: struct (nullable = true)\n",
      " |    |    |    |-- spotify: string (nullable = true)\n",
      " |    |    |-- href: string (nullable = true)\n",
      " |    |    |-- id: string (nullable = true)\n",
      " |    |    |-- images: array (nullable = true)\n",
      " |    |    |    |-- element: struct (containsNull = true)\n",
      " |    |    |    |    |-- height: long (nullable = true)\n",
      " |    |    |    |    |-- url: string (nullable = true)\n",
      " |    |    |    |    |-- width: long (nullable = true)\n",
      " |    |    |-- name: string (nullable = true)\n",
      " |    |    |-- release_date: string (nullable = true)\n",
      " |    |    |-- release_date_precision: string (nullable = true)\n",
      " |    |    |-- total_tracks: long (nullable = true)\n",
      " |    |    |-- type: string (nullable = true)\n",
      " |    |    |-- uri: string (nullable = true)\n",
      " |-- limit: long (nullable = true)\n",
      " |-- next: string (nullable = true)\n",
      " |-- offset: long (nullable = true)\n",
      " |-- previous: string (nullable = true)\n",
      " |-- total: long (nullable = true)\n",
      "\n"
     ]
    }
   ],
   "source": [
    "albums.printSchema()"
   ]
  },
  {
   "cell_type": "code",
   "execution_count": 17,
   "id": "1f0258ca",
   "metadata": {
    "scrolled": true
   },
   "outputs": [
    {
     "name": "stderr",
     "output_type": "stream",
     "text": [
      "                                                                                \r"
     ]
    },
    {
     "name": "stdout",
     "output_type": "stream",
     "text": [
      "+----+-----+\n",
      "|size|count|\n",
      "+----+-----+\n",
      "|   0|   20|\n",
      "+----+-----+\n",
      "\n"
     ]
    }
   ],
   "source": [
    "# liczba plików z pustą listą albumów (artystów bez albumów)\n",
    "albums.select(size('items').alias('size')).groupBy('size').count().filter(col('size') == 0).show()"
   ]
  },
  {
   "cell_type": "code",
   "execution_count": 18,
   "id": "99a9b497",
   "metadata": {},
   "outputs": [
    {
     "name": "stderr",
     "output_type": "stream",
     "text": [
      "[Stage 47:====================================>                   (21 + 4) / 32]\r"
     ]
    },
    {
     "name": "stdout",
     "output_type": "stream",
     "text": [
      "+----------------------+-----+\n",
      "|artist_id             |items|\n",
      "+----------------------+-----+\n",
      "|0IaGKdJMLQv0vLHc1Bzz6u|[]   |\n",
      "|0J7ZveNAIWHvq9Z9ZDsB5L|[]   |\n",
      "|0LyfQWJT6nXafLPZqxe9Of|[]   |\n",
      "|1bfl0AU8SqmLkElptOprhC|[]   |\n",
      "|28OHQv3VZ2gifjWzrqBv1v|[]   |\n",
      "|2OJ9q6gAsEHOdqOTIzqnXx|[]   |\n",
      "|30d0RIHoQMNIzQpj7vTrXE|[]   |\n",
      "|3CYrY6YYaOcL3dzuRj4Mah|[]   |\n",
      "|3ITtDLfVjkXKg2QOsP40G7|[]   |\n",
      "|3JITwr6Xwkz8p6cm9leNUh|[]   |\n",
      "|3e2jFFSyQ3RQDSi1YI543i|[]   |\n",
      "|3rCNOOzBSFj5bBiPHQ6zDI|[]   |\n",
      "|3uBw3E4TPcqllLfrw0OzMV|[]   |\n",
      "|4JBWzz3QHMkQksbbFpHOD6|[]   |\n",
      "|4frjN28tf7pio1ht5Qtiu6|[]   |\n",
      "|5KOmu3ailnFoXhGPiwIld7|[]   |\n",
      "|6C9uTGq6VGug6mVIS1fC1e|[]   |\n",
      "|6ZqX1hMl57m51iWusfz1CU|[]   |\n",
      "|6ieK3wazeURTP9wJhhjlEx|[]   |\n",
      "|6zXTZTTYTFywWVmlgRV0yZ|[]   |\n",
      "+----------------------+-----+\n",
      "\n"
     ]
    },
    {
     "name": "stderr",
     "output_type": "stream",
     "text": [
      "\r",
      "[Stage 47:===========================================>            (25 + 4) / 32]\r",
      "\r",
      "                                                                                \r"
     ]
    }
   ],
   "source": [
    "# id artystów bez albumów\n",
    "albums.filter(size('items')==0).select(split('href', '/')[5].alias('artist_id'), 'items').show(truncate=False)"
   ]
  },
  {
   "cell_type": "code",
   "execution_count": 19,
   "id": "8ea671b5",
   "metadata": {},
   "outputs": [],
   "source": [
    "# selekcja potrzebnych artybutów\n",
    "albums_df = (\n",
    "    albums\n",
    "    .select(split('href', '/')[5].alias('artist_id'), 'items')\n",
    "    .withColumn('albums', explode_outer('items').alias('albums'))\n",
    "    .select('artist_id',\n",
    "            col('albums.album_type').alias('album_type'),\n",
    "            'albums.id',\n",
    "            'albums.name',\n",
    "            'albums.release_date', \n",
    "            'albums.total_tracks')\n",
    "    .filter(col('album_type').isin(['album', 'single']))\n",
    ")"
   ]
  },
  {
   "cell_type": "code",
   "execution_count": 20,
   "id": "ab2914d9",
   "metadata": {
    "scrolled": true
   },
   "outputs": [
    {
     "name": "stdout",
     "output_type": "stream",
     "text": [
      "root\n",
      " |-- artist_id: string (nullable = true)\n",
      " |-- album_type: string (nullable = true)\n",
      " |-- id: string (nullable = true)\n",
      " |-- name: string (nullable = true)\n",
      " |-- release_date: string (nullable = true)\n",
      " |-- total_tracks: long (nullable = true)\n",
      "\n"
     ]
    }
   ],
   "source": [
    "albums_df.printSchema()"
   ]
  },
  {
   "cell_type": "code",
   "execution_count": 21,
   "id": "b1d7d782",
   "metadata": {},
   "outputs": [
    {
     "name": "stdout",
     "output_type": "stream",
     "text": [
      "+--------------------+----------+--------------------+--------------------+------------+------------+\n",
      "|           artist_id|album_type|                  id|                name|release_date|total_tracks|\n",
      "+--------------------+----------+--------------------+--------------------+------------+------------+\n",
      "|17ggmeNujCFMkr3zg...|     album|1qYgVhLQzmkpDvGuV...|         A New World|  2021-05-14|           2|\n",
      "|17ggmeNujCFMkr3zg...|     album|1s4Q1KgUS0CmAx5NC...|Inca Trail Connec...|  2021-04-23|          12|\n",
      "|17ggmeNujCFMkr3zg...|     album|5AhfRz0R24vwYKeaC...|Journeys: Orchest...|  2021-02-26|           9|\n",
      "|17ggmeNujCFMkr3zg...|     album|4JOWxk9HERWqCWEmC...|Otto Winter-Hjelm...|  2020-09-11|           8|\n",
      "|17ggmeNujCFMkr3zg...|     album|5CYHG4Iq2VvjfoyTZ...|             Unleash|  2020-04-10|           4|\n",
      "|17ggmeNujCFMkr3zg...|     album|4AByWTHCLK61mVk0M...|Berio: Coro & Cri...|  2020-03-06|          38|\n",
      "|17ggmeNujCFMkr3zg...|     album|7dfhXqmjA7I6bJhgr...|Ole Bull - Stages...|  2020-02-26|           5|\n",
      "|17ggmeNujCFMkr3zg...|     album|0l2Wbyc0PBPlG4NYX...|The Best Version ...|  2019-12-03|           6|\n",
      "|17ggmeNujCFMkr3zg...|     album|2FNyk2ZOrX5szMd5F...|        Singing Oboe|  2019-11-15|          11|\n",
      "|17ggmeNujCFMkr3zg...|     album|1ONsBFxBohEs0MIGO...|        Live i Marka|  2019-11-01|          15|\n",
      "|17ggmeNujCFMkr3zg...|     album|3cMh9BZ7nA1LaTx4g...|       Silently Loud|  2019-09-20|          12|\n",
      "|17ggmeNujCFMkr3zg...|     album|5mzYNo9a48F6sDjN6...|Ginastera: Harp C...|  2019-09-13|          15|\n",
      "|17ggmeNujCFMkr3zg...|     album|7M7oEGsBwyQxEqebh...|   Poulenc Concertos|  2019-06-07|           7|\n",
      "|17ggmeNujCFMkr3zg...|     album|6SHGJedSNsYRjJ6vG...|Brahms & Ligeti: ...|  2019-04-05|           8|\n",
      "|17ggmeNujCFMkr3zg...|     album|2qp8rrdS9UoivGzlg...|Helge Iberg: Song...|  2019-04-05|           9|\n",
      "|17ggmeNujCFMkr3zg...|     album|5khHCHHTmmrIqYdBg...|My Old Book (30 Y...|  2019-01-18|          13|\n",
      "|17ggmeNujCFMkr3zg...|     album|08wKh6SuwXWyYOWty...|   Chopin / Schumann|  2018-04-13|           4|\n",
      "|17ggmeNujCFMkr3zg...|     album|5L9WUGla5CFAB8Dmv...|Con Cierto Toque ...|  2017-09-27|          13|\n",
      "|17ggmeNujCFMkr3zg...|     album|73A8VcxUn2xBkKlYn...|La Flûte Norvégienne|  2017-06-12|          15|\n",
      "|17ggmeNujCFMkr3zg...|     album|1KPvnm7cHpndLASe3...|Variations over V...|  2017-03-10|           6|\n",
      "+--------------------+----------+--------------------+--------------------+------------+------------+\n",
      "only showing top 20 rows\n",
      "\n"
     ]
    }
   ],
   "source": [
    "albums_df.show()"
   ]
  },
  {
   "cell_type": "code",
   "execution_count": 22,
   "id": "6c938731",
   "metadata": {
    "scrolled": true
   },
   "outputs": [
    {
     "name": "stderr",
     "output_type": "stream",
     "text": [
      "                                                                                \r"
     ]
    },
    {
     "data": {
      "text/plain": [
       "182303"
      ]
     },
     "execution_count": 22,
     "metadata": {},
     "output_type": "execute_result"
    }
   ],
   "source": [
    "albums_df.count()"
   ]
  },
  {
   "cell_type": "code",
   "execution_count": 23,
   "id": "440fcdbe",
   "metadata": {},
   "outputs": [
    {
     "name": "stderr",
     "output_type": "stream",
     "text": [
      "                                                                                \r"
     ]
    },
    {
     "data": {
      "text/plain": [
       "151360"
      ]
     },
     "execution_count": 23,
     "metadata": {},
     "output_type": "execute_result"
    }
   ],
   "source": [
    "# liczba unikalnych albumów\n",
    "albums_df.select('id').distinct().count()"
   ]
  },
  {
   "cell_type": "code",
   "execution_count": 24,
   "id": "8fe3b319",
   "metadata": {},
   "outputs": [],
   "source": [
    "# sprawdzenie braków (artystów bez dopasowanych albumów/albumów nie pasujących do artystów)\n",
    "artists_albums_outer_join_null = (\n",
    "    artists_df_deduplicated_genres\n",
    "    .join(albums_df.withColumnRenamed('id', 'album_id').withColumnRenamed('name', 'album_name'), \n",
    "          artists_df_deduplicated.id == albums_df.artist_id, 'outer')\n",
    "    .filter(col('id').isNull() | col('artist_id').isNull())\n",
    ")"
   ]
  },
  {
   "cell_type": "code",
   "execution_count": 25,
   "id": "412c1f45",
   "metadata": {
    "scrolled": true
   },
   "outputs": [
    {
     "name": "stderr",
     "output_type": "stream",
     "text": [
      "                                                                                \r"
     ]
    },
    {
     "name": "stdout",
     "output_type": "stream",
     "text": [
      "+----------------------+---------------------------------+\n",
      "|id                    |name                             |\n",
      "+----------------------+---------------------------------+\n",
      "|0IaGKdJMLQv0vLHc1Bzz6u|Bob Van Ratingen                 |\n",
      "|4frjN28tf7pio1ht5Qtiu6|DAOKO×米津玄師                   |\n",
      "|6H93wOohK6r1MwGh41Z4Nb|Ashin Chen                       |\n",
      "|4BbsSamQy6XSByO4O4Nymt|MC 3L                            |\n",
      "|2OJ9q6gAsEHOdqOTIzqnXx|DJ Stijco                        |\n",
      "|0J7ZveNAIWHvq9Z9ZDsB5L|Aurelie Moeremans                |\n",
      "|45v3Gcc9Je56Lx9YMx4bl1|The High                         |\n",
      "|28OHQv3VZ2gifjWzrqBv1v|Bene                             |\n",
      "|null                  |null                             |\n",
      "|30d0RIHoQMNIzQpj7vTrXE|Borucci                          |\n",
      "|03IJEZ6IynYczgge2uC4YD|Mark Linett                      |\n",
      "|1bfl0AU8SqmLkElptOprhC|Julión Álvarez y su Norteño Banda|\n",
      "|4JBWzz3QHMkQksbbFpHOD6|Maninder Buttar                  |\n",
      "|5KOmu3ailnFoXhGPiwIld7|chiello_fsk                      |\n",
      "|6C9uTGq6VGug6mVIS1fC1e|MCs Thin e Alexandre             |\n",
      "|3CYrY6YYaOcL3dzuRj4Mah|Jérémie Tuil                     |\n",
      "|32pTJUDIqu5vvX5McsyU26|Kelly Badon                      |\n",
      "|6zXTZTTYTFywWVmlgRV0yZ|Marcianeke                       |\n",
      "|3JITwr6Xwkz8p6cm9leNUh|Side A & Freestyle               |\n",
      "|6ieK3wazeURTP9wJhhjlEx|MC Bianca                        |\n",
      "|3e2jFFSyQ3RQDSi1YI543i|Spooks                           |\n",
      "|6ZqX1hMl57m51iWusfz1CU|GUYON WATON                      |\n",
      "|0LyfQWJT6nXafLPZqxe9Of|Various Artists                  |\n",
      "|62WbvkXqQGvXQvw74GU3kQ|Morissette                       |\n",
      "|3ITtDLfVjkXKg2QOsP40G7|Thantri                          |\n",
      "|3rCNOOzBSFj5bBiPHQ6zDI|yungest Moonstar                 |\n",
      "|3uBw3E4TPcqllLfrw0OzMV|Polo G                           |\n",
      "+----------------------+---------------------------------+\n",
      "\n"
     ]
    }
   ],
   "source": [
    "# artyści bez dopasowanych albumów\n",
    "artists_albums_outer_join_null.select('id', 'name').distinct().show(30,truncate=False)"
   ]
  },
  {
   "cell_type": "code",
   "execution_count": 26,
   "id": "38cbbf58",
   "metadata": {},
   "outputs": [
    {
     "name": "stderr",
     "output_type": "stream",
     "text": [
      "                                                                                \r"
     ]
    },
    {
     "name": "stdout",
     "output_type": "stream",
     "text": [
      "+----------------------+\n",
      "|artist_id             |\n",
      "+----------------------+\n",
      "|null                  |\n",
      "|2zHzn2oA1QJOB8SPIpoiYD|\n",
      "|3FgenUy0FsiWi5tatx73Ha|\n",
      "|2hz61ryzrN6bUBZjOQnKbd|\n",
      "|56r1N9JpztKsmNNk2FtpDU|\n",
      "|6ZjisQlDoiiHbr8yN9J1Sc|\n",
      "|1XsVSBeFDiptyuBlX2FgFs|\n",
      "|5AVUF0rTgAIMhdP5mtnbN7|\n",
      "|2iAtipcqILmxM2vctkuJCd|\n",
      "|13KOtjLXdUPwIDuGsORa5i|\n",
      "|1LT6utaOOPuP58rAQTCrWl|\n",
      "|6QqEc36uUltQc78hnqXOgx|\n",
      "|46mGxneffUCmDhMU1m6zYu|\n",
      "|7CP9fSApQUk9nKQx0rPSda|\n",
      "|4CwqmHBrsCzKuBqlQKfYxZ|\n",
      "+----------------------+\n",
      "\n"
     ]
    }
   ],
   "source": [
    "# albumy niedopasowane do artystów\n",
    "artists_albums_outer_join_null.select('artist_id').distinct().show(truncate=False)"
   ]
  },
  {
   "cell_type": "code",
   "execution_count": 27,
   "id": "01297420",
   "metadata": {},
   "outputs": [],
   "source": [
    "# Morissette - 2x id - 62WbvkXqQGvXQvw74GU3kQ / 2hz61ryzrN6bUBZjOQnKbd\n",
    "# MC 3L - 2x id - 4BbsSamQy6XSByO4O4Nymt / 6ZjisQlDoiiHbr8yN9J1Sc\n",
    "# Ashin Chen - 2x id - 6H93wOohK6r1MwGh41Z4Nb / 7CP9fSApQUk9nKQx0rPSda\n",
    "# pozostałe artist_id (11) - drugie działające id dla zduplikowanych artystów\n",
    "# 2zHzn2oA1QJOB8SPIpoiYD - Dadju, 3FgenUy0FsiWi5tatx73Ha - Sehinsah, 56r1N9JpztKsmNNk2FtpDU / 1LT6utaOOPuP58rAQTCrWl - Vassy, \n",
    "# 6ZjisQlDoiiHbr8yN9J1Sc - MC 3L, 1XsVSBeFDiptyuBlX2FgFs - Rochak Kohli, 5AVUF0rTgAIMhdP5mtnbN7 - Marca MP,\n",
    "# 2iAtipcqILmxM2vctkuJCd - Bibic, 13KOtjLXdUPwIDuGsORa5i - Yuridope, 6QqEc36uUltQc78hnqXOgx - Jul, \n",
    "# 46mGxneffUCmDhMU1m6zYu - Tungevaag, 4CwqmHBrsCzKuBqlQKfYxZ - Russ Millions\n",
    "# ==> artists + albums łączone przy pomocy inner/left join (zduplikowani artyści pomijani; po zmianie id 3 artystów bez albumów)"
   ]
  },
  {
   "cell_type": "code",
   "execution_count": 28,
   "id": "e525fabd",
   "metadata": {},
   "outputs": [],
   "source": [
    "# zmiana id dla 3 artystów (opisane powyżej)\n",
    "albums_df = (\n",
    "    albums_df\n",
    "    .withColumn(\"artist_id\", when(albums_df.artist_id == \"2hz61ryzrN6bUBZjOQnKbd\",\"62WbvkXqQGvXQvw74GU3kQ\") \\\n",
    "                .when(albums_df.artist_id == \"6ZjisQlDoiiHbr8yN9J1Sc\",\"4BbsSamQy6XSByO4O4Nymt\") \\\n",
    "                .when(albums_df.artist_id == \"7CP9fSApQUk9nKQx0rPSda\",\"6H93wOohK6r1MwGh41Z4Nb\") \\\n",
    "                .otherwise(albums_df.artist_id)\n",
    "               )\n",
    ")"
   ]
  },
  {
   "cell_type": "markdown",
   "id": "58359ca2",
   "metadata": {},
   "source": [
    "### Tracks"
   ]
  },
  {
   "cell_type": "code",
   "execution_count": 29,
   "id": "916148c5",
   "metadata": {},
   "outputs": [
    {
     "name": "stderr",
     "output_type": "stream",
     "text": [
      "                                                                                \r"
     ]
    }
   ],
   "source": [
    "# wczytanie danych dla utworów\n",
    "tracks = (\n",
    "    spark.read\n",
    "    .json('hdfs://localhost:8020/user/wisniewskij/spotify/tracks/*', multiLine=True)\n",
    ")"
   ]
  },
  {
   "cell_type": "code",
   "execution_count": 30,
   "id": "aab7f8f0",
   "metadata": {},
   "outputs": [],
   "source": [
    "# dodanie kolumny z nazwą pliku (celem uzyskania id artysty)\n",
    "tracks = tracks.withColumn(\"filename\", input_file_name())"
   ]
  },
  {
   "cell_type": "code",
   "execution_count": 31,
   "id": "de81cac8",
   "metadata": {
    "scrolled": true
   },
   "outputs": [
    {
     "name": "stdout",
     "output_type": "stream",
     "text": [
      "root\n",
      " |-- tracks: array (nullable = true)\n",
      " |    |-- element: struct (containsNull = true)\n",
      " |    |    |-- album: struct (nullable = true)\n",
      " |    |    |    |-- album_type: string (nullable = true)\n",
      " |    |    |    |-- artists: array (nullable = true)\n",
      " |    |    |    |    |-- element: struct (containsNull = true)\n",
      " |    |    |    |    |    |-- external_urls: struct (nullable = true)\n",
      " |    |    |    |    |    |    |-- spotify: string (nullable = true)\n",
      " |    |    |    |    |    |-- href: string (nullable = true)\n",
      " |    |    |    |    |    |-- id: string (nullable = true)\n",
      " |    |    |    |    |    |-- name: string (nullable = true)\n",
      " |    |    |    |    |    |-- type: string (nullable = true)\n",
      " |    |    |    |    |    |-- uri: string (nullable = true)\n",
      " |    |    |    |-- external_urls: struct (nullable = true)\n",
      " |    |    |    |    |-- spotify: string (nullable = true)\n",
      " |    |    |    |-- href: string (nullable = true)\n",
      " |    |    |    |-- id: string (nullable = true)\n",
      " |    |    |    |-- images: array (nullable = true)\n",
      " |    |    |    |    |-- element: struct (containsNull = true)\n",
      " |    |    |    |    |    |-- height: long (nullable = true)\n",
      " |    |    |    |    |    |-- url: string (nullable = true)\n",
      " |    |    |    |    |    |-- width: long (nullable = true)\n",
      " |    |    |    |-- name: string (nullable = true)\n",
      " |    |    |    |-- release_date: string (nullable = true)\n",
      " |    |    |    |-- release_date_precision: string (nullable = true)\n",
      " |    |    |    |-- total_tracks: long (nullable = true)\n",
      " |    |    |    |-- type: string (nullable = true)\n",
      " |    |    |    |-- uri: string (nullable = true)\n",
      " |    |    |-- artists: array (nullable = true)\n",
      " |    |    |    |-- element: struct (containsNull = true)\n",
      " |    |    |    |    |-- external_urls: struct (nullable = true)\n",
      " |    |    |    |    |    |-- spotify: string (nullable = true)\n",
      " |    |    |    |    |-- href: string (nullable = true)\n",
      " |    |    |    |    |-- id: string (nullable = true)\n",
      " |    |    |    |    |-- name: string (nullable = true)\n",
      " |    |    |    |    |-- type: string (nullable = true)\n",
      " |    |    |    |    |-- uri: string (nullable = true)\n",
      " |    |    |-- disc_number: long (nullable = true)\n",
      " |    |    |-- duration_ms: long (nullable = true)\n",
      " |    |    |-- explicit: boolean (nullable = true)\n",
      " |    |    |-- external_ids: struct (nullable = true)\n",
      " |    |    |    |-- isrc: string (nullable = true)\n",
      " |    |    |-- external_urls: struct (nullable = true)\n",
      " |    |    |    |-- spotify: string (nullable = true)\n",
      " |    |    |-- href: string (nullable = true)\n",
      " |    |    |-- id: string (nullable = true)\n",
      " |    |    |-- is_local: boolean (nullable = true)\n",
      " |    |    |-- is_playable: boolean (nullable = true)\n",
      " |    |    |-- name: string (nullable = true)\n",
      " |    |    |-- popularity: long (nullable = true)\n",
      " |    |    |-- preview_url: string (nullable = true)\n",
      " |    |    |-- restrictions: struct (nullable = true)\n",
      " |    |    |    |-- reason: string (nullable = true)\n",
      " |    |    |-- track_number: long (nullable = true)\n",
      " |    |    |-- type: string (nullable = true)\n",
      " |    |    |-- uri: string (nullable = true)\n",
      " |-- filename: string (nullable = false)\n",
      "\n"
     ]
    }
   ],
   "source": [
    "tracks.printSchema()"
   ]
  },
  {
   "cell_type": "code",
   "execution_count": 32,
   "id": "90a50043",
   "metadata": {},
   "outputs": [
    {
     "name": "stderr",
     "output_type": "stream",
     "text": [
      "                                                                                \r"
     ]
    },
    {
     "name": "stdout",
     "output_type": "stream",
     "text": [
      "+----+-----+\n",
      "|size|count|\n",
      "+----+-----+\n",
      "|   0|   52|\n",
      "+----+-----+\n",
      "\n"
     ]
    }
   ],
   "source": [
    "# liczba plików z pustą listą utworów\n",
    "tracks.select(size('tracks').alias('size')).groupBy('size').count().filter(col('size') == 0).show()"
   ]
  },
  {
   "cell_type": "code",
   "execution_count": 33,
   "id": "6472f978",
   "metadata": {},
   "outputs": [],
   "source": [
    "# selekcja potrzebnych artybutów\n",
    "tracks_df = (\n",
    "    tracks\n",
    "    .select(split('filename', '/')[7].alias('filename'), 'tracks')\n",
    "    .withColumn('tracks', explode('tracks'))\n",
    "    .select(col('tracks.album.id').alias('album_id'),\n",
    "            'tracks.duration_ms',\n",
    "            'tracks.explicit',\n",
    "            'tracks.id',\n",
    "            'tracks.name',\n",
    "            'tracks.popularity',\n",
    "            'filename'\n",
    "           )\n",
    "    .withColumn(\"filename\",expr(\"substring(filename, 1, length(filename)-5)\")) # usunięcie \".json\"\n",
    "    .withColumnRenamed(\"filename\", 'artist_id')\n",
    ")"
   ]
  },
  {
   "cell_type": "code",
   "execution_count": 34,
   "id": "4ac3854c",
   "metadata": {},
   "outputs": [
    {
     "name": "stdout",
     "output_type": "stream",
     "text": [
      "+--------------------+-----------+--------+--------------------+--------------------+----------+--------------------+\n",
      "|            album_id|duration_ms|explicit|                  id|                name|popularity|           artist_id|\n",
      "+--------------------+-----------+--------+--------------------+--------------------+----------+--------------------+\n",
      "|3GkXRRRkV3rfgwG1w...|     176232|   false|29m79w9xPMH4YCD6r...|             Excuses|        75|0OS0NZnK7TGIAWx8M...|\n",
      "|12UWGJjni8Mz24bGQ...|     184102|   false|4faDlXyZMSxEuxBdd...|               Toxic|        72|0OS0NZnK7TGIAWx8M...|\n",
      "|7LwW8qe6sND4ySnKm...|     188606|   false|5fXslGZPI5Cco6PKH...|Illegal Weapon 2....|        69|0OS0NZnK7TGIAWx8M...|\n",
      "|2UEWjApikRpHOdFlZ...|     306572|   false|79blZUG11a6vtTL3N...|      Punjabi Mashup|        67|0OS0NZnK7TGIAWx8M...|\n",
      "|3yd4VQeZysHsK5TBx...|    4676057|   false|2HyMuSCZJIxgnZBku...|High Rated Gabru ...|        66|0OS0NZnK7TGIAWx8M...|\n",
      "|3S3ekcemSjVZ6Pi3o...|     193398|   false|7fBeejW1BoZFTd4hT...|            Umbrella|        64|0OS0NZnK7TGIAWx8M...|\n",
      "|04h2mUgHLBRDSSdim...|     224209|   false|2uClyP3ljxxp7CLbG...|Punjabi Party Mashup|        59|0OS0NZnK7TGIAWx8M...|\n",
      "|3y6rsAj2sdhKgrL8M...|     213320|   false|1dNdTTyT5hVBah1VA...|      Holi Party Mix|        53|0OS0NZnK7TGIAWx8M...|\n",
      "|5u3EgVr8smBWV9NQw...|     240512|   false|4eHbe3yR5unRMZ8EC...|     Naina De Thekay|        48|0OS0NZnK7TGIAWx8M...|\n",
      "|5eDASWI7PB20BVjXh...|     169932|   false|65RJHVcaIYpDDRbOP...|       Chrome Hearts|        46|0OS0NZnK7TGIAWx8M...|\n",
      "|3tfC6dfNO9vi0LL1M...|     212521|   false|1MhHomaXgrPMBroXk...|Valentine's Mashu...|        71|5rQoBDKFnd1n6Bkdb...|\n",
      "|5bimKHx8YBRQBsoph...|     212692|   false|1orM67pmkNc4alrZk...|     Naach Meri Rani|        68|5rQoBDKFnd1n6Bkdb...|\n",
      "|71Z0GMHUBwc1dWAHk...|    4581482|   false|1FSYDJAlyHAabWhiG...|52 Non Stop Dilba...|        67|5rQoBDKFnd1n6Bkdb...|\n",
      "|2UEWjApikRpHOdFlZ...|     306572|   false|79blZUG11a6vtTL3N...|      Punjabi Mashup|        67|5rQoBDKFnd1n6Bkdb...|\n",
      "|0FVTEsLSHEXGTyaQ4...|     215368|   false|5ZQnQnbUVtBO0pl3S...|Lagdi Lahore Di (...|        67|5rQoBDKFnd1n6Bkdb...|\n",
      "|3yd4VQeZysHsK5TBx...|    4676057|   false|2HyMuSCZJIxgnZBku...|High Rated Gabru ...|        66|5rQoBDKFnd1n6Bkdb...|\n",
      "|1zgKTUwG47DuycE93...|     190131|   false|2mwBSO58y92EYmEFp...|           Suit Suit|        66|5rQoBDKFnd1n6Bkdb...|\n",
      "|4CoXAyGgEt2TjGLGe...|     198380|   false|1jkNF7kVO0tzNiGXz...|Valentine's Mashu...|        64|5rQoBDKFnd1n6Bkdb...|\n",
      "|4dob5W0fcOiKEe3ii...|     207493|   false|0FoAlOXHI6KJ4RHP9...|           Baby Girl|        63|5rQoBDKFnd1n6Bkdb...|\n",
      "|6EDbwGsQNQRLf73c7...|     198025|   false|5x3K3Ld54TtkYKdQv...|Morni Banke (From...|        58|5rQoBDKFnd1n6Bkdb...|\n",
      "+--------------------+-----------+--------+--------------------+--------------------+----------+--------------------+\n",
      "only showing top 20 rows\n",
      "\n"
     ]
    }
   ],
   "source": [
    "tracks_df.show()"
   ]
  },
  {
   "cell_type": "code",
   "execution_count": 35,
   "id": "329b0ba8",
   "metadata": {
    "scrolled": true
   },
   "outputs": [
    {
     "name": "stderr",
     "output_type": "stream",
     "text": [
      "                                                                                \r"
     ]
    },
    {
     "data": {
      "text/plain": [
       "47882"
      ]
     },
     "execution_count": 35,
     "metadata": {},
     "output_type": "execute_result"
    }
   ],
   "source": [
    "tracks_df.count()"
   ]
  },
  {
   "cell_type": "code",
   "execution_count": 36,
   "id": "b5294439",
   "metadata": {},
   "outputs": [
    {
     "name": "stderr",
     "output_type": "stream",
     "text": [
      "                                                                                \r"
     ]
    },
    {
     "data": {
      "text/plain": [
       "42087"
      ]
     },
     "execution_count": 36,
     "metadata": {},
     "output_type": "execute_result"
    }
   ],
   "source": [
    "# liczba unikalnych utworów\n",
    "tracks_df.select('id').distinct().count()"
   ]
  },
  {
   "cell_type": "code",
   "execution_count": 37,
   "id": "679f0466",
   "metadata": {},
   "outputs": [],
   "source": [
    "# zmiana id 3 artystów (tych samych dla których modyfikacja albumów)\n",
    "tracks_df = (\n",
    "    tracks_df\n",
    "    .withColumn(\"artist_id\", when(tracks_df.artist_id == \"2hz61ryzrN6bUBZjOQnKbd\",\"62WbvkXqQGvXQvw74GU3kQ\") \\\n",
    "                .when(tracks_df.artist_id == \"6ZjisQlDoiiHbr8yN9J1Sc\",\"4BbsSamQy6XSByO4O4Nymt\") \\\n",
    "                .when(tracks_df.artist_id == \"7CP9fSApQUk9nKQx0rPSda\",\"6H93wOohK6r1MwGh41Z4Nb\") \\\n",
    "                .otherwise(tracks_df.artist_id)\n",
    "               )\n",
    ")"
   ]
  },
  {
   "cell_type": "markdown",
   "id": "3bb46055",
   "metadata": {},
   "source": [
    "### Finalne dane"
   ]
  },
  {
   "cell_type": "code",
   "execution_count": 38,
   "id": "41e72bb5",
   "metadata": {},
   "outputs": [],
   "source": [
    "data = (\n",
    "    artists_df_deduplicated_genres\n",
    "    .withColumnRenamed('id', 'artist_id')\n",
    "    .withColumnRenamed('name', 'artist_name')\n",
    "    .withColumnRenamed('popularity', 'artist_popularity')\n",
    "    .join(albums_df.withColumnRenamed('id', 'album_id').withColumnRenamed('name', 'album_name'), 'artist_id', 'left')\n",
    "    .join(tracks_df\n",
    "          .withColumnRenamed('id', 'track_id')\n",
    "          .withColumnRenamed('name', 'track_name')\n",
    "          .withColumnRenamed('popularity', 'track_popularity'), ['artist_id', 'album_id'],  'left')\n",
    ")"
   ]
  },
  {
   "cell_type": "code",
   "execution_count": 39,
   "id": "b1bfbd6a",
   "metadata": {
    "scrolled": true
   },
   "outputs": [
    {
     "name": "stderr",
     "output_type": "stream",
     "text": [
      "                                                                                \r"
     ]
    },
    {
     "data": {
      "text/plain": [
       "566972"
      ]
     },
     "execution_count": 39,
     "metadata": {},
     "output_type": "execute_result"
    }
   ],
   "source": [
    "data.count()"
   ]
  },
  {
   "cell_type": "code",
   "execution_count": 40,
   "id": "7129b553",
   "metadata": {
    "scrolled": true
   },
   "outputs": [
    {
     "name": "stderr",
     "output_type": "stream",
     "text": [
      "[Stage 132:===================================================> (196 + 4) / 200]\r"
     ]
    },
    {
     "name": "stdout",
     "output_type": "stream",
     "text": [
      "+--------------------+--------------------+--------------------+---------+-----------------+-------------------+----------+--------------------+------------+------------+-----------+--------+--------+----------+----------------+\n",
      "|           artist_id|            album_id|         artist_name|followers|artist_popularity|             genres|album_type|          album_name|release_date|total_tracks|duration_ms|explicit|track_id|track_name|track_popularity|\n",
      "+--------------------+--------------------+--------------------+---------+-----------------+-------------------+----------+--------------------+------------+------------+-----------+--------+--------+----------+----------------+\n",
      "|00Z3UDoAQwzvGu13H...|6E8WvkEF5UzumaYEr...|         Skizzy Mars|   291381|               59|      indie pop rap|     album|I Can't Take Me A...|  2018-11-29|           9|       null|    null|    null|      null|            null|\n",
      "|00Z3UDoAQwzvGu13H...|6E8WvkEF5UzumaYEr...|         Skizzy Mars|   291381|               59|            pop rap|     album|I Can't Take Me A...|  2018-11-29|           9|       null|    null|    null|      null|            null|\n",
      "|00Z3UDoAQwzvGu13H...|6E8WvkEF5UzumaYEr...|         Skizzy Mars|   291381|               59|                rap|     album|I Can't Take Me A...|  2018-11-29|           9|       null|    null|    null|      null|            null|\n",
      "|00Z3UDoAQwzvGu13H...|6E8WvkEF5UzumaYEr...|         Skizzy Mars|   291381|               59|underground hip hop|     album|I Can't Take Me A...|  2018-11-29|           9|       null|    null|    null|      null|            null|\n",
      "|00sCATpEvwH48ays7...|0y66ZtW87HvOi6qPQ...|       Jonita Gandhi|   389362|               67|           desi pop|    single|Vaseegara And Zar...|  2020-02-20|           1|       null|    null|    null|      null|            null|\n",
      "|00sCATpEvwH48ays7...|0y66ZtW87HvOi6qPQ...|       Jonita Gandhi|   389362|               67|   modern bollywood|    single|Vaseegara And Zar...|  2020-02-20|           1|       null|    null|    null|      null|            null|\n",
      "|014WIDx7H4BRCHB1f...|2OykV67pCxiyCOK23...|Los Tucanes De Ti...|  1458716|               76|            corrido|     album|      Amor Descarado|  2003-12-16|          15|       null|    null|    null|      null|            null|\n",
      "|014WIDx7H4BRCHB1f...|2OykV67pCxiyCOK23...|Los Tucanes De Ti...|  1458716|               76|            norteno|     album|      Amor Descarado|  2003-12-16|          15|       null|    null|    null|      null|            null|\n",
      "|014WIDx7H4BRCHB1f...|2OykV67pCxiyCOK23...|Los Tucanes De Ti...|  1458716|               76|           ranchera|     album|      Amor Descarado|  2003-12-16|          15|       null|    null|    null|      null|            null|\n",
      "|014WIDx7H4BRCHB1f...|2OykV67pCxiyCOK23...|Los Tucanes De Ti...|  1458716|               76|   regional mexican|     album|      Amor Descarado|  2003-12-16|          15|       null|    null|    null|      null|            null|\n",
      "|01pKrlgPJhm5dB4ln...|40UNLOijHxkFEHVuC...|               Sigma|   283129|               65|          dance pop|    single|         High On You|  2020-06-12|           1|       null|    null|    null|      null|            null|\n",
      "|01pKrlgPJhm5dB4ln...|40UNLOijHxkFEHVuC...|               Sigma|   283129|               65|     dancefloor dnb|    single|         High On You|  2020-06-12|           1|       null|    null|    null|      null|            null|\n",
      "|01pKrlgPJhm5dB4ln...|40UNLOijHxkFEHVuC...|               Sigma|   283129|               65|      drum and bass|    single|         High On You|  2020-06-12|           1|       null|    null|    null|      null|            null|\n",
      "|01pKrlgPJhm5dB4ln...|40UNLOijHxkFEHVuC...|               Sigma|   283129|               65|                edm|    single|         High On You|  2020-06-12|           1|       null|    null|    null|      null|            null|\n",
      "|01pKrlgPJhm5dB4ln...|40UNLOijHxkFEHVuC...|               Sigma|   283129|               65|              house|    single|         High On You|  2020-06-12|           1|       null|    null|    null|      null|            null|\n",
      "|01pKrlgPJhm5dB4ln...|40UNLOijHxkFEHVuC...|               Sigma|   283129|               65|          pop dance|    single|         High On You|  2020-06-12|           1|       null|    null|    null|      null|            null|\n",
      "|01pKrlgPJhm5dB4ln...|40UNLOijHxkFEHVuC...|               Sigma|   283129|               65|     tropical house|    single|         High On You|  2020-06-12|           1|       null|    null|    null|      null|            null|\n",
      "|01pKrlgPJhm5dB4ln...|40UNLOijHxkFEHVuC...|               Sigma|   283129|               65|           uk dance|    single|         High On You|  2020-06-12|           1|       null|    null|    null|      null|            null|\n",
      "|01pKrlgPJhm5dB4ln...|5fwSukWXm4Podvt4h...|               Sigma|   283129|               65|          dance pop|     album|                Life|  2015-12-04|          13|       null|    null|    null|      null|            null|\n",
      "|01pKrlgPJhm5dB4ln...|5fwSukWXm4Podvt4h...|               Sigma|   283129|               65|     dancefloor dnb|     album|                Life|  2015-12-04|          13|       null|    null|    null|      null|            null|\n",
      "+--------------------+--------------------+--------------------+---------+-----------------+-------------------+----------+--------------------+------------+------------+-----------+--------+--------+----------+----------------+\n",
      "only showing top 20 rows\n",
      "\n"
     ]
    },
    {
     "name": "stderr",
     "output_type": "stream",
     "text": [
      "\r",
      "                                                                                \r"
     ]
    }
   ],
   "source": [
    "data.show()"
   ]
  },
  {
   "cell_type": "code",
   "execution_count": 41,
   "id": "45ce6ad8",
   "metadata": {
    "scrolled": true
   },
   "outputs": [],
   "source": [
    "# uporządkowanie kolumn\n",
    "data = data.select('artist_id', 'artist_name', 'followers', 'artist_popularity', 'genres', 'album_id', 'album_type', \n",
    "                   'album_name', 'release_date', 'total_tracks', 'track_id', 'track_name', 'explicit',\n",
    "                   'track_popularity', 'duration_ms')"
   ]
  },
  {
   "cell_type": "code",
   "execution_count": 42,
   "id": "296181e9",
   "metadata": {
    "scrolled": true
   },
   "outputs": [],
   "source": [
    "data.write.option('header', 'true').csv('hdfs://localhost:8020/user/wisniewskij/spotify/data')"
   ]
  }
 ],
 "metadata": {
  "kernelspec": {
   "display_name": "Python 3 (ipykernel)",
   "language": "python",
   "name": "python3"
  },
  "language_info": {
   "codemirror_mode": {
    "name": "ipython",
    "version": 3
   },
   "file_extension": ".py",
   "mimetype": "text/x-python",
   "name": "python",
   "nbconvert_exporter": "python",
   "pygments_lexer": "ipython3",
   "version": "3.7.10"
  }
 },
 "nbformat": 4,
 "nbformat_minor": 5
}
