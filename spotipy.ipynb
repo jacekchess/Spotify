{
 "cells": [
  {
   "cell_type": "code",
   "execution_count": 8,
   "id": "c2ed973b",
   "metadata": {},
   "outputs": [],
   "source": [
    "import spotipy\n",
    "import json\n",
    "import re\n",
    "\n",
    "sp = spotipy.Spotify(auth='BQCKzUOTw5FKlfxRuCprLvWYfMwWhOd145kdumDvPFo0I4pkz2K9IN-R47NDMSp2jy90COFM5BmE26oGvdQCDSOA5kKSRYgFI-BBRvUnRFpyPap3Uv7vIQwHGHr6dM1LzcC6RTJ9xaVVXNSA')\n",
    "# result = sp.artist_top_tracks('spotify:artist:3TVXtAsR1Inumwj472S9r4')\n",
    "# result"
   ]
  },
  {
   "cell_type": "code",
   "execution_count": 9,
   "id": "8b577bc3",
   "metadata": {},
   "outputs": [],
   "source": [
    "f = open('C:\\\\Users\\\\jwisn\\\\OneDrive\\\\Pulpit\\\\artists_ids.txt', 'r')\n",
    "artists = re.split(',|\\n',f.read())\n",
    "f.close()"
   ]
  },
  {
   "cell_type": "code",
   "execution_count": 11,
   "id": "efde0ca7",
   "metadata": {},
   "outputs": [],
   "source": [
    "for artist in artists:\n",
    "    result = json.dumps(sp.artist_albums(str('spotify:artist:' + artist)))\n",
    "        \n",
    "    f = open(str('C:\\\\Users\\\\jwisn\\\\OneDrive\\\\Pulpit\\\\albums\\\\' + artist + '.json'), 'w', encoding='utf-8')\n",
    "    f.write(str(result))\n",
    "    f.close()\n",
    "        "
   ]
  },
  {
   "cell_type": "code",
   "execution_count": 3,
   "id": "bb9f5075",
   "metadata": {},
   "outputs": [],
   "source": [
    "for artist in artists:\n",
    "    result = json.dumps(sp.artist_top_tracks(str('spotify:artist:' + artist)))\n",
    "        \n",
    "    f = open(str('C:\\\\Users\\\\jwisn\\\\OneDrive\\\\Pulpit\\\\tracks\\\\' + artist + '.json'), 'w', encoding='utf-8')\n",
    "    f.write(str(result))\n",
    "    f.close()"
   ]
  }
 ],
 "metadata": {
  "kernelspec": {
   "display_name": "Python 3 (ipykernel)",
   "language": "python",
   "name": "python3"
  },
  "language_info": {
   "codemirror_mode": {
    "name": "ipython",
    "version": 3
   },
   "file_extension": ".py",
   "mimetype": "text/x-python",
   "name": "python",
   "nbconvert_exporter": "python",
   "pygments_lexer": "ipython3",
   "version": "3.9.6"
  }
 },
 "nbformat": 4,
 "nbformat_minor": 5
}
