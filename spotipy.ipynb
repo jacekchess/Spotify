{
 "cells": [
  {
   "cell_type": "code",
   "execution_count": 8,
   "id": "c2ed973b",
   "metadata": {},
   "outputs": [],
   "source": [
    "# wymagane pakiety\n",
    "import spotipy\n",
    "import json\n",
    "import re\n",
    "import os\n",
    "\n",
    "# połączenie z API Spotify (token wymaga zmiany co godzinę)\n",
    "sp = spotipy.Spotify(auth='BQBBjjXaqVdDIdzu6mDmNstrtOV-aoAYsuDvUQuVcqHkWvSeZWRFWPDriRlEawHolMPOZEVFDOf4wenSccjfel2_7SlT1oJ_o3lmmhn_CVEASFremT86dLXB1m-rwa0YvyhPrrhD3m4')"
   ]
  },
  {
   "cell_type": "code",
   "execution_count": 9,
   "id": "8b577bc3",
   "metadata": {},
   "outputs": [],
   "source": [
    "# plik zawierający id artystów (uzyskane przy pomocy skryptu scraping.py)\n",
    "f = open('artists_ids.txt', 'r')\n",
    "artists = re.split(',|\\n',f.read())\n",
    "f.close()"
   ]
  },
  {
   "cell_type": "code",
   "execution_count": 10,
   "id": "efde0ca7",
   "metadata": {},
   "outputs": [],
   "source": [
    "# albumy\n",
    "for artist in artists:\n",
    "    # konwersja otrzymanych danych do formatu .json\n",
    "    result = json.dumps(sp.artist_albums(str('spotify:artist:' + artist)))\n",
    "    # zapis do pliku\n",
    "    if not os.path.exists('albums'):\n",
    "        os.makedirs('albums')\n",
    "    f = open(str('albums/' + artist + '.json'), 'w', encoding='utf-8')\n",
    "    f.write(str(result))\n",
    "    f.close()\n",
    "        "
   ]
  },
  {
   "cell_type": "code",
   "execution_count": 11,
   "id": "bb9f5075",
   "metadata": {},
   "outputs": [],
   "source": [
    "# utwory (top 10)\n",
    "for artist in artists:\n",
    "    # konwersja otrzymanych danych do formatu .json\n",
    "    result = json.dumps(sp.artist_top_tracks(str('spotify:artist:' + artist)))\n",
    "    # zapis do pliku\n",
    "    if not os.path.exists('tracks'):\n",
    "        os.makedirs('tracks')\n",
    "    f = open(str('tracks/' + artist + '.json'), 'w', encoding='utf-8')\n",
    "    f.write(str(result))\n",
    "    f.close()"
   ]
  }
 ],
 "metadata": {
  "kernelspec": {
   "display_name": "Python 3 (ipykernel)",
   "language": "python",
   "name": "python3"
  },
  "language_info": {
   "codemirror_mode": {
    "name": "ipython",
    "version": 3
   },
   "file_extension": ".py",
   "mimetype": "text/x-python",
   "name": "python",
   "nbconvert_exporter": "python",
   "pygments_lexer": "ipython3",
   "version": "3.8.2"
  }
 },
 "nbformat": 4,
 "nbformat_minor": 5
}
